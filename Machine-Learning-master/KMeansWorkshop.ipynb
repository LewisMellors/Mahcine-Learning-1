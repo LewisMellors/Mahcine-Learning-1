{
 "cells": [
  {
   "cell_type": "code",
   "execution_count": 4,
   "metadata": {},
   "outputs": [
    {
     "data": {
      "text/plain": [
       "Text(0, 0.5, 'aggregate distance')"
      ]
     },
     "execution_count": 4,
     "metadata": {},
     "output_type": "execute_result"
    },
    {
     "data": {
      "image/png": "[encoded data removed]",
      "text/plain": [
       "<Figure size 432x288 with 1 Axes>"
      ]
     },
     "metadata": {
      "needs_background": "light"
     },
     "output_type": "display_data"
    },
    {
     "data": {
      "image/png": "[encoded data removed]",
      "text/plain": [
       "<Figure size 432x288 with 1 Axes>"
      ]
     },
     "metadata": {
      "needs_background": "light"
     },
     "output_type": "display_data"
    }
   ],
   "source": [
    "import numpy as np\n",
    "import pandas as pd\n",
    "import matplotlib.pyplot as plt\n",
    "from sklearn.cluster import KMeans\n",
    "\n",
    "def get_data():\n",
    "    # load the data\n",
    "    data = pd.read_csv('kmeans.csv',header=None).values\n",
    "    # shuffle data rows \n",
    "    np.random.shuffle(data) \n",
    "    # shuffle rows\n",
    "    return data\n",
    "data = get_data()\n",
    "\n",
    "#plt.scatter(data[:,0],data[:,1])\n",
    "\n",
    "def kmeans_clustering(data, K):\n",
    "    # define the model\n",
    "    model = KMeans(n_clusters=K)\n",
    "    # fit the model to data\n",
    "    model.fit(data)\n",
    "    centroid = model.cluster_centers_\n",
    "    labels = model.labels_\n",
    "    # sum of squared distances of samples to their closest cluster centrer\n",
    "    distance = model.inertia_\n",
    "    # define a dict to store each cluster of data points\n",
    "    cluster_set = {}\n",
    "    for i,x in enumerate(data):\n",
    "        xlabel = labels[i]\n",
    "        if xlabel not in cluster_set.keys():\n",
    "            cluster_set[xlabel] = np.reshape(x,(1,len(x)))\n",
    "        else:\n",
    "            cluster_set[xlabel] = np.append(cluster_set[xlabel],np.reshape(x,(1,len(x))), axis=0)\n",
    "        return centroid, distance, cluster_set\n",
    "K = 3\n",
    "centroid, distance, clusters_set = kmeans_clustering(data, K)\n",
    "# plot clusters\n",
    "plt.figure(1)\n",
    "colors = {0:'k',1:'b',2:'g'}\n",
    "center_color = ['r']\n",
    "for key in clusters_set.keys():\n",
    "    cluster = clusters_set[key]\n",
    "        \n",
    "plt.scatter(cluster[:,0],cluster[:,1],alpha=0.5)\n",
    "#,cmap=matplotlib.colors.ListedColormap(colors[key]))\n",
    "plt.scatter(centroid[key][0],centroid[key][1],alpha=1)\n",
    "#,cmap=matplotlib.colors.ListedColormap(center_color[0]))\n",
    "\n",
    "#choose the number of clusters\n",
    "\n",
    "def agg_distance(data):\n",
    "    all_distance = []\n",
    "    for k in range(1,10):\n",
    "        vector = []\n",
    "        vector.append(k)\n",
    "        centroid, distance, clusters_set = kmeans_clustering(data, k)\n",
    "        vector.append(distance)\n",
    "        all_distance.append(np.array(vector))\n",
    "    return np.array(all_distance)\n",
    "    \n",
    "all_distance = agg_distance(data)\n",
    "plt.figure()\n",
    "plt.plot(all_distance[:,0],all_distance[:,1],'o-')\n",
    "plt.xlabel('number of clusters')\n",
    "plt.ylabel('aggregate distance')"
   ]
  },
  {
   "cell_type": "code",
   "execution_count": null,
   "metadata": {},
   "outputs": [],
   "source": []
  }
 ],
 "metadata": {
  "kernelspec": {
   "display_name": "Python 3",
   "language": "python",
   "name": "python3"
  },
  "language_info": {
   "codemirror_mode": {
    "name": "ipython",
    "version": 3
   },
   "file_extension": ".py",
   "mimetype": "text/x-python",
   "name": "python",
   "nbconvert_exporter": "python",
   "pygments_lexer": "ipython3",
   "version": "3.7.3"
  }
 },
 "nbformat": 4,
 "nbformat_minor": 2
}
